{
 "cells": [
  {
   "cell_type": "code",
   "execution_count": 1,
   "metadata": {},
   "outputs": [],
   "source": [
    "import torch\n",
    "import torch.nn as nn\n",
    "from torched.customs.layers import *\n",
    "import torch.nn.functional as F\n",
    "import numpy as np\n",
    "from adaptive_conv import AdaptiveConv2D, AdaptiveResidualLayer"
   ]
  },
  {
   "cell_type": "code",
   "execution_count": 2,
   "metadata": {},
   "outputs": [],
   "source": [
    "# Testing\n",
    "layer_types = [AdaptiveConv2D]\n",
    "input_sizes = [(32, 32), (64, 64)]\n",
    "input_channels = [3, 10, 16]\n",
    "output_channels = [16, 32, 64]\n",
    "modes = ['lite', 'pixel_aware']"
   ]
  },
  {
   "cell_type": "code",
   "execution_count": 3,
   "metadata": {},
   "outputs": [
    {
     "name": "stdout",
     "output_type": "stream",
     "text": [
      "[torch.Size([1, 16, 32, 32]), torch.Size([1, 16, 32, 32]), torch.Size([1, 32, 32, 32]), torch.Size([1, 32, 32, 32]), torch.Size([1, 64, 32, 32]), torch.Size([1, 64, 32, 32]), torch.Size([1, 16, 32, 32]), torch.Size([1, 16, 32, 32]), torch.Size([1, 32, 32, 32]), torch.Size([1, 32, 32, 32]), torch.Size([1, 64, 32, 32]), torch.Size([1, 64, 32, 32]), torch.Size([1, 16, 32, 32]), torch.Size([1, 16, 32, 32]), torch.Size([1, 32, 32, 32]), torch.Size([1, 32, 32, 32]), torch.Size([1, 64, 32, 32]), torch.Size([1, 64, 32, 32]), torch.Size([1, 16, 64, 64]), torch.Size([1, 16, 64, 64]), torch.Size([1, 32, 64, 64]), torch.Size([1, 32, 64, 64]), torch.Size([1, 64, 64, 64]), torch.Size([1, 64, 64, 64]), torch.Size([1, 16, 64, 64]), torch.Size([1, 16, 64, 64]), torch.Size([1, 32, 64, 64]), torch.Size([1, 32, 64, 64]), torch.Size([1, 64, 64, 64]), torch.Size([1, 64, 64, 64]), torch.Size([1, 16, 64, 64]), torch.Size([1, 16, 64, 64]), torch.Size([1, 32, 64, 64]), torch.Size([1, 32, 64, 64]), torch.Size([1, 64, 64, 64]), torch.Size([1, 64, 64, 64])]\n"
     ]
    }
   ],
   "source": [
    "output_shape = []\n",
    "for layer_type in layer_types:\n",
    "    for sz in input_sizes:\n",
    "        for ni in input_channels:\n",
    "            for no in output_channels:\n",
    "                for mode in modes:\n",
    "                    if mode == 'lite':\n",
    "                        layer = layer_type(ni, no, lite=True)\n",
    "                    else:\n",
    "                        layer = layer_type(ni, no, pixel_aware=True)\n",
    "                    input_tensor = torch.randn(1, ni, sz[0], sz[1])\n",
    "                    output = layer(input_tensor)\n",
    "                    output_shape.append(output.shape)\n",
    "print(output_shape)"
   ]
  },
  {
   "cell_type": "code",
   "execution_count": 4,
   "metadata": {},
   "outputs": [],
   "source": [
    "# Testing\n",
    "layer_types = [AdaptiveResidualLayer]\n",
    "input_sizes = [(32, 32), (64, 64)]\n",
    "input_channels = [32]\n",
    "output_channels = [32]\n",
    "modes = ['lite', 'pixel_aware']"
   ]
  },
  {
   "cell_type": "code",
   "execution_count": 5,
   "metadata": {},
   "outputs": [
    {
     "name": "stdout",
     "output_type": "stream",
     "text": [
      "lite 32 32 (32, 32)\n",
      "pixel_aware 32 32 (32, 32)\n",
      "lite 32 32 (64, 64)\n",
      "pixel_aware 32 32 (64, 64)\n",
      "[torch.Size([1, 32, 32, 32]), torch.Size([1, 32, 32, 32]), torch.Size([1, 32, 64, 64]), torch.Size([1, 32, 64, 64])]\n"
     ]
    }
   ],
   "source": [
    "output_shape = []\n",
    "for layer_type in layer_types:\n",
    "    for sz in input_sizes:\n",
    "        for ni in input_channels:\n",
    "            for no in output_channels:\n",
    "                for mode in modes:\n",
    "                    print(mode, ni, no, sz)\n",
    "                    if mode == 'lite':\n",
    "                        layer = layer_type(ni, lite=True)\n",
    "                    else:\n",
    "                        layer = layer_type(ni, pixel_aware=True)\n",
    "                    input_tensor = torch.randn(1, ni, sz[0], sz[1])\n",
    "                    output = layer(input_tensor)\n",
    "                    output_shape.append(output.shape)\n",
    "print(output_shape)"
   ]
  },
  {
   "cell_type": "code",
   "execution_count": null,
   "metadata": {},
   "outputs": [],
   "source": []
  }
 ],
 "metadata": {
  "kernelspec": {
   "display_name": "Python 3",
   "language": "python",
   "name": "python3"
  },
  "language_info": {
   "codemirror_mode": {
    "name": "ipython",
    "version": 3
   },
   "file_extension": ".py",
   "mimetype": "text/x-python",
   "name": "python",
   "nbconvert_exporter": "python",
   "pygments_lexer": "ipython3",
   "version": "3.6.7"
  }
 },
 "nbformat": 4,
 "nbformat_minor": 2
}
