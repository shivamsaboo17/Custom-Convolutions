{
 "cells": [
  {
   "cell_type": "code",
   "execution_count": 1,
   "metadata": {},
   "outputs": [],
   "source": [
    "import torch\n",
    "import torch.nn as nn\n",
    "import torch.nn.functional as F\n",
    "from octave_conv import OctaveConv2D, OctaveResidualLayer"
   ]
  },
  {
   "cell_type": "code",
   "execution_count": 16,
   "metadata": {},
   "outputs": [],
   "source": [
    "first_oct_conv = OctaveConv2D(32, 64, 3, 0.75, 0.75, first=True)"
   ]
  },
  {
   "cell_type": "code",
   "execution_count": 2,
   "metadata": {},
   "outputs": [],
   "source": [
    "layer = OctaveResidualLayer(32, 3, use_bn=True, alpha=0.75)"
   ]
  },
  {
   "cell_type": "code",
   "execution_count": 3,
   "metadata": {},
   "outputs": [],
   "source": [
    "in_tensor = [torch.randn(1, 8, 128, 128), torch.randn(1, 24, 64, 64)]"
   ]
  },
  {
   "cell_type": "code",
   "execution_count": 4,
   "metadata": {},
   "outputs": [],
   "source": [
    "h, l = layer(in_tensor)"
   ]
  },
  {
   "cell_type": "code",
   "execution_count": 5,
   "metadata": {},
   "outputs": [
    {
     "data": {
      "text/plain": [
       "(torch.Size([1, 8, 128, 128]), torch.Size([1, 24, 64, 64]))"
      ]
     },
     "execution_count": 5,
     "metadata": {},
     "output_type": "execute_result"
    }
   ],
   "source": [
    "h.shape, l.shape"
   ]
  },
  {
   "cell_type": "code",
   "execution_count": 6,
   "metadata": {},
   "outputs": [
    {
     "name": "stdout",
     "output_type": "stream",
     "text": [
      "7.87 ms ± 83.7 µs per loop (mean ± std. dev. of 7 runs, 100 loops each)\n"
     ]
    }
   ],
   "source": [
    "%timeit h, l = layer(in_tensor)"
   ]
  },
  {
   "cell_type": "code",
   "execution_count": 7,
   "metadata": {},
   "outputs": [],
   "source": [
    "from torched.customs.layers import ResidualLayer"
   ]
  },
  {
   "cell_type": "code",
   "execution_count": 8,
   "metadata": {},
   "outputs": [],
   "source": [
    "layer = ResidualLayer(32)"
   ]
  },
  {
   "cell_type": "code",
   "execution_count": 9,
   "metadata": {},
   "outputs": [],
   "source": [
    "in_tensor = torch.randn(1, 32, 128, 128)"
   ]
  },
  {
   "cell_type": "code",
   "execution_count": 10,
   "metadata": {},
   "outputs": [
    {
     "name": "stdout",
     "output_type": "stream",
     "text": [
      "19.5 ms ± 395 µs per loop (mean ± std. dev. of 7 runs, 10 loops each)\n"
     ]
    }
   ],
   "source": [
    "%timeit o = layer(in_tensor)"
   ]
  },
  {
   "cell_type": "code",
   "execution_count": 11,
   "metadata": {},
   "outputs": [],
   "source": [
    "# Testing\n",
    "layer = [OctaveResidualLayer]\n",
    "channels = [16, 32, 64]\n",
    "alpha = [0.125, 0.25, 0.5, 0.75]\n",
    "bottleneck = [True, False]"
   ]
  },
  {
   "cell_type": "code",
   "execution_count": 12,
   "metadata": {},
   "outputs": [],
   "source": [
    "op = []"
   ]
  },
  {
   "cell_type": "code",
   "execution_count": 13,
   "metadata": {},
   "outputs": [],
   "source": [
    "for l in layer:\n",
    "    for ch in channels:\n",
    "        for a in alpha:\n",
    "            for b in bottleneck:\n",
    "                in_tensor = [torch.randn(1, int(ch * (1 - a)), 32, 32), torch.randn(1, int(ch - ch * (1 - a)), 16, 16)] \n",
    "                l_ = l(ch, 3, a, 'relu', b, True, 1.)\n",
    "                op.append(l_(in_tensor)[0].shape)"
   ]
  },
  {
   "cell_type": "code",
   "execution_count": 14,
   "metadata": {},
   "outputs": [
    {
     "data": {
      "text/plain": [
       "[torch.Size([1, 14, 32, 32]),\n",
       " torch.Size([1, 14, 32, 32]),\n",
       " torch.Size([1, 12, 32, 32]),\n",
       " torch.Size([1, 12, 32, 32]),\n",
       " torch.Size([1, 8, 32, 32]),\n",
       " torch.Size([1, 8, 32, 32]),\n",
       " torch.Size([1, 4, 32, 32]),\n",
       " torch.Size([1, 4, 32, 32]),\n",
       " torch.Size([1, 28, 32, 32]),\n",
       " torch.Size([1, 28, 32, 32]),\n",
       " torch.Size([1, 24, 32, 32]),\n",
       " torch.Size([1, 24, 32, 32]),\n",
       " torch.Size([1, 16, 32, 32]),\n",
       " torch.Size([1, 16, 32, 32]),\n",
       " torch.Size([1, 8, 32, 32]),\n",
       " torch.Size([1, 8, 32, 32]),\n",
       " torch.Size([1, 56, 32, 32]),\n",
       " torch.Size([1, 56, 32, 32]),\n",
       " torch.Size([1, 48, 32, 32]),\n",
       " torch.Size([1, 48, 32, 32]),\n",
       " torch.Size([1, 32, 32, 32]),\n",
       " torch.Size([1, 32, 32, 32]),\n",
       " torch.Size([1, 16, 32, 32]),\n",
       " torch.Size([1, 16, 32, 32])]"
      ]
     },
     "execution_count": 14,
     "metadata": {},
     "output_type": "execute_result"
    }
   ],
   "source": [
    "op"
   ]
  },
  {
   "cell_type": "code",
   "execution_count": null,
   "metadata": {},
   "outputs": [],
   "source": []
  }
 ],
 "metadata": {
  "kernelspec": {
   "display_name": "Python 3",
   "language": "python",
   "name": "python3"
  },
  "language_info": {
   "codemirror_mode": {
    "name": "ipython",
    "version": 3
   },
   "file_extension": ".py",
   "mimetype": "text/x-python",
   "name": "python",
   "nbconvert_exporter": "python",
   "pygments_lexer": "ipython3",
   "version": "3.6.7"
  }
 },
 "nbformat": 4,
 "nbformat_minor": 2
}
